{
 "cells": [
  {
   "cell_type": "code",
   "execution_count": 1,
   "metadata": {},
   "outputs": [
    {
     "name": "stderr",
     "output_type": "stream",
     "text": [
      "Using TensorFlow backend.\n"
     ]
    }
   ],
   "source": [
    "import os\n",
    "import itertools\n",
    "import pandas as pd\n",
    "import matplotlib.pyplot as plt\n",
    "\n",
    "from keras.layers import Activation, Conv3D, Dense, Dropout, Flatten, MaxPooling3D\n",
    "from keras.losses import categorical_crossentropy\n",
    "from keras.models import Sequential\n",
    "from keras.optimizers import Adam\n",
    "from keras.utils import to_categorical\n",
    "from tqdm import tqdm\n",
    "from sklearn.metrics import confusion_matrix"
   ]
  },
  {
   "cell_type": "code",
   "execution_count": 2,
   "metadata": {},
   "outputs": [
    {
     "name": "stderr",
     "output_type": "stream",
     "text": [
      "c:\\users\\dnly\\anaconda3\\envs\\tensorflow_env\\lib\\site-packages\\ipykernel_launcher.py:2: UserWarning: Update your `Conv3D` call to the Keras 2 API: `Conv3D(32, kernel_size=(3, 3, 3), input_shape=[32, 32, 3..., padding=\"same\")`\n",
      "  \n",
      "c:\\users\\dnly\\anaconda3\\envs\\tensorflow_env\\lib\\site-packages\\ipykernel_launcher.py:4: UserWarning: Update your `Conv3D` call to the Keras 2 API: `Conv3D(32, kernel_size=(3, 3, 3), padding=\"same\")`\n",
      "  after removing the cwd from sys.path.\n",
      "c:\\users\\dnly\\anaconda3\\envs\\tensorflow_env\\lib\\site-packages\\ipykernel_launcher.py:6: UserWarning: Update your `MaxPooling3D` call to the Keras 2 API: `MaxPooling3D(pool_size=(3, 3, 3), padding=\"same\")`\n",
      "  \n",
      "c:\\users\\dnly\\anaconda3\\envs\\tensorflow_env\\lib\\site-packages\\ipykernel_launcher.py:9: UserWarning: Update your `Conv3D` call to the Keras 2 API: `Conv3D(64, kernel_size=(3, 3, 3), padding=\"same\")`\n",
      "  if __name__ == '__main__':\n",
      "c:\\users\\dnly\\anaconda3\\envs\\tensorflow_env\\lib\\site-packages\\ipykernel_launcher.py:11: UserWarning: Update your `Conv3D` call to the Keras 2 API: `Conv3D(64, kernel_size=(3, 3, 3), padding=\"same\")`\n",
      "  # This is added back by InteractiveShellApp.init_path()\n",
      "c:\\users\\dnly\\anaconda3\\envs\\tensorflow_env\\lib\\site-packages\\ipykernel_launcher.py:13: UserWarning: Update your `MaxPooling3D` call to the Keras 2 API: `MaxPooling3D(pool_size=(3, 3, 3), padding=\"same\")`\n",
      "  del sys.path[0]\n"
     ]
    }
   ],
   "source": [
    "squat_3dcnnmodel = Sequential()\n",
    "squat_3dcnnmodel.add(Conv3D(32, kernel_size=(3, 3, 3), input_shape=([32, 32, 30, 3]), border_mode='same'))\n",
    "squat_3dcnnmodel.add(Activation('relu'))\n",
    "squat_3dcnnmodel.add(Conv3D(32, kernel_size=(3, 3, 3), border_mode='same'))\n",
    "squat_3dcnnmodel.add(Activation('softmax'))\n",
    "squat_3dcnnmodel.add(MaxPooling3D(pool_size=(3, 3, 3), border_mode='same'))\n",
    "squat_3dcnnmodel.add(Dropout(0.25))\n",
    "\n",
    "squat_3dcnnmodel.add(Conv3D(64, kernel_size=(3, 3, 3), border_mode='same'))\n",
    "squat_3dcnnmodel.add(Activation('relu'))\n",
    "squat_3dcnnmodel.add(Conv3D(64, kernel_size=(3, 3, 3), border_mode='same'))\n",
    "squat_3dcnnmodel.add(Activation('softmax'))\n",
    "squat_3dcnnmodel.add(MaxPooling3D(pool_size=(3, 3, 3), border_mode='same'))\n",
    "squat_3dcnnmodel.add(Dropout(0.25))\n",
    "\n",
    "squat_3dcnnmodel.add(Flatten())\n",
    "squat_3dcnnmodel.add(Dense(512, activation='sigmoid'))\n",
    "squat_3dcnnmodel.add(Dropout(0.5))\n",
    "squat_3dcnnmodel.add(Dense(2, activation='softmax'))"
   ]
  },
  {
   "cell_type": "code",
   "execution_count": 3,
   "metadata": {},
   "outputs": [],
   "source": [
    "squat_3dcnnmodel.load_weights(\"3dcnnresults/squat_3dcnnmodel.hd5\")\n",
    "squat_3dcnnmodel.trainable = False"
   ]
  },
  {
   "cell_type": "code",
   "execution_count": 4,
   "metadata": {},
   "outputs": [
    {
     "name": "stdout",
     "output_type": "stream",
     "text": [
      "_________________________________________________________________\n",
      "Layer (type)                 Output Shape              Param #   \n",
      "=================================================================\n",
      "conv3d_1 (Conv3D)            (None, 32, 32, 30, 32)    2624      \n",
      "_________________________________________________________________\n",
      "activation_1 (Activation)    (None, 32, 32, 30, 32)    0         \n",
      "_________________________________________________________________\n",
      "conv3d_2 (Conv3D)            (None, 32, 32, 30, 32)    27680     \n",
      "_________________________________________________________________\n",
      "activation_2 (Activation)    (None, 32, 32, 30, 32)    0         \n",
      "_________________________________________________________________\n",
      "max_pooling3d_1 (MaxPooling3 (None, 11, 11, 10, 32)    0         \n",
      "_________________________________________________________________\n",
      "dropout_1 (Dropout)          (None, 11, 11, 10, 32)    0         \n",
      "_________________________________________________________________\n",
      "conv3d_3 (Conv3D)            (None, 11, 11, 10, 64)    55360     \n",
      "_________________________________________________________________\n",
      "activation_3 (Activation)    (None, 11, 11, 10, 64)    0         \n",
      "_________________________________________________________________\n",
      "conv3d_4 (Conv3D)            (None, 11, 11, 10, 64)    110656    \n",
      "_________________________________________________________________\n",
      "activation_4 (Activation)    (None, 11, 11, 10, 64)    0         \n",
      "_________________________________________________________________\n",
      "max_pooling3d_2 (MaxPooling3 (None, 4, 4, 4, 64)       0         \n",
      "_________________________________________________________________\n",
      "dropout_2 (Dropout)          (None, 4, 4, 4, 64)       0         \n",
      "_________________________________________________________________\n",
      "flatten_1 (Flatten)          (None, 4096)              0         \n",
      "_________________________________________________________________\n",
      "dense_1 (Dense)              (None, 512)               2097664   \n",
      "_________________________________________________________________\n",
      "dropout_3 (Dropout)          (None, 512)               0         \n",
      "_________________________________________________________________\n",
      "dense_2 (Dense)              (None, 2)                 1026      \n",
      "=================================================================\n",
      "Total params: 2,295,010\n",
      "Trainable params: 0\n",
      "Non-trainable params: 2,295,010\n",
      "_________________________________________________________________\n"
     ]
    }
   ],
   "source": [
    "squat_3dcnnmodel.summary()"
   ]
  },
  {
   "cell_type": "code",
   "execution_count": 5,
   "metadata": {},
   "outputs": [],
   "source": [
    "import numpy as np\n",
    "import cv2\n",
    "\n",
    "\n",
    "class Videoto3D:\n",
    "\n",
    "    def __init__(self, width, height, depth):\n",
    "        self.width = width\n",
    "        self.height = height\n",
    "        self.depth = depth\n",
    "\n",
    "    def video3d(self, filename, color=False, skip=True):\n",
    "        cap = cv2.VideoCapture(filename)\n",
    "        nframe = cap.get(cv2.CAP_PROP_FRAME_COUNT)\n",
    "        if skip:\n",
    "            frames = [x * nframe / self.depth for x in range(self.depth)]\n",
    "        else:\n",
    "            frames = [x for x in range(self.depth)]\n",
    "        framearray = []\n",
    "\n",
    "        for i in range(self.depth):\n",
    "            cap.set(cv2.CAP_PROP_POS_FRAMES, frames[i])\n",
    "            ret, frame = cap.read()\n",
    "            frame = cv2.resize(frame, (self.height, self.width))\n",
    "            if color:\n",
    "                framearray.append(frame)\n",
    "            else:\n",
    "                framearray.append(cv2.cvtColor(frame, cv2.COLOR_BGR2GRAY))\n",
    "\n",
    "        cap.release()\n",
    "        return np.array(framearray)\n",
    "\n",
    "\n",
    "\n",
    "    def get_UCF_classname(self, filename):\n",
    "        return filename[filename.find('_') + 1:filename.find('_', 2)]"
   ]
  },
  {
   "cell_type": "code",
   "execution_count": 6,
   "metadata": {},
   "outputs": [],
   "source": [
    "def loaddata(video_dir, vid3d, nclass, result_dir, color=False, skip=True):\n",
    "    files = os.listdir(video_dir)\n",
    "    X = []\n",
    "    labels = []\n",
    "    labellist = []\n",
    "\n",
    "    pbar = tqdm(total=len(files))\n",
    "\n",
    "    for filename in files:\n",
    "        pbar.update(1)\n",
    "        if filename == '.DS_Store':\n",
    "            continue\n",
    "        name = os.path.join(video_dir, filename)\n",
    "        label = vid3d.get_classname(filename)\n",
    "        if label not in labellist:\n",
    "            if len(labellist) >= nclass:\n",
    "                continue\n",
    "            labellist.append(label)\n",
    "        labels.append(label)\n",
    "        X.append(vid3d.video3d(name, color=color, skip=skip))\n",
    "\n",
    "    pbar.close()\n",
    "    with open(os.path.join(result_dir, 'classes.txt'), 'w') as fp:\n",
    "        for i in range(len(labellist)):\n",
    "            fp.write('{}\\n'.format(labellist[i]))\n",
    "\n",
    "    for num, label in enumerate(labellist):\n",
    "        for i in range(len(labels)):\n",
    "            if label == labels[i]:\n",
    "                labels[i] = num\n",
    "    if color:\n",
    "        return np.array(X).transpose((0, 2, 3, 4, 1)), labels\n",
    "    else:\n",
    "        return np.array(X).transpose((0, 2, 3, 1)), labels\n"
   ]
  },
  {
   "cell_type": "code",
   "execution_count": 8,
   "metadata": {},
   "outputs": [],
   "source": [
    "from videoto3d import Videoto3D as vid3d"
   ]
  },
  {
   "cell_type": "code",
   "execution_count": 9,
   "metadata": {},
   "outputs": [],
   "source": [
    "videos = \"new_data//\"\n",
    "\n",
    "img_rows = 32\n",
    "img_cols = 32\n",
    "depth = 30\n",
    "\n",
    "nclass = 2\n",
    "output = \"new_data_results//\"\n",
    "channel = 3\n",
    "color = True\n",
    "skip = False\n",
    "\n",
    "frames = depth\n",
    "nb_classes = nclass\n",
    "\n"
   ]
  },
  {
   "cell_type": "code",
   "execution_count": 10,
   "metadata": {},
   "outputs": [
    {
     "name": "stderr",
     "output_type": "stream",
     "text": [
      "100%|██████████████████████████████████████████████████████████████████████████████████| 10/10 [00:07<00:00,  1.37it/s]\n"
     ]
    }
   ],
   "source": [
    "x, y = loaddata(videos, vid3d(img_rows, img_cols, frames), nclass, output, color, skip)\n",
    "X = x.reshape((x.shape[0], img_rows, img_cols, frames, channel))\n",
    "Y = to_categorical(y, nb_classes)\n",
    "\n",
    "X = X.astype('float32')"
   ]
  },
  {
   "cell_type": "code",
   "execution_count": 11,
   "metadata": {},
   "outputs": [],
   "source": [
    "files = os.listdir(\"new_data/\")\n",
    "y_pred = squat_3dcnnmodel.predict(X)"
   ]
  },
  {
   "cell_type": "code",
   "execution_count": 16,
   "metadata": {},
   "outputs": [
    {
     "data": {
      "text/html": [
       "<div>\n",
       "<style scoped>\n",
       "    .dataframe tbody tr th:only-of-type {\n",
       "        vertical-align: middle;\n",
       "    }\n",
       "\n",
       "    .dataframe tbody tr th {\n",
       "        vertical-align: top;\n",
       "    }\n",
       "\n",
       "    .dataframe thead th {\n",
       "        text-align: right;\n",
       "    }\n",
       "</style>\n",
       "<table border=\"1\" class=\"dataframe\">\n",
       "  <thead>\n",
       "    <tr style=\"text-align: right;\">\n",
       "      <th></th>\n",
       "      <th>bf</th>\n",
       "      <th>gf</th>\n",
       "    </tr>\n",
       "  </thead>\n",
       "  <tbody>\n",
       "    <tr>\n",
       "      <th>n_gf_1.mp4</th>\n",
       "      <td>0.006023</td>\n",
       "      <td>0.993977</td>\n",
       "    </tr>\n",
       "    <tr>\n",
       "      <th>n_gf_10.mp4</th>\n",
       "      <td>0.011623</td>\n",
       "      <td>0.988377</td>\n",
       "    </tr>\n",
       "    <tr>\n",
       "      <th>n_gf_2.mp4</th>\n",
       "      <td>0.010029</td>\n",
       "      <td>0.989971</td>\n",
       "    </tr>\n",
       "    <tr>\n",
       "      <th>n_gf_3.mp4</th>\n",
       "      <td>0.009338</td>\n",
       "      <td>0.990662</td>\n",
       "    </tr>\n",
       "    <tr>\n",
       "      <th>n_gf_4.mp4</th>\n",
       "      <td>0.007552</td>\n",
       "      <td>0.992448</td>\n",
       "    </tr>\n",
       "    <tr>\n",
       "      <th>n_gf_5.mp4</th>\n",
       "      <td>0.008795</td>\n",
       "      <td>0.991205</td>\n",
       "    </tr>\n",
       "    <tr>\n",
       "      <th>n_gf_6.mp4</th>\n",
       "      <td>0.012653</td>\n",
       "      <td>0.987347</td>\n",
       "    </tr>\n",
       "    <tr>\n",
       "      <th>n_gf_7.mp4</th>\n",
       "      <td>0.011352</td>\n",
       "      <td>0.988648</td>\n",
       "    </tr>\n",
       "    <tr>\n",
       "      <th>n_gf_8.mp4</th>\n",
       "      <td>0.015004</td>\n",
       "      <td>0.984996</td>\n",
       "    </tr>\n",
       "    <tr>\n",
       "      <th>n_gf_9.mp4</th>\n",
       "      <td>0.010362</td>\n",
       "      <td>0.989638</td>\n",
       "    </tr>\n",
       "  </tbody>\n",
       "</table>\n",
       "</div>"
      ],
      "text/plain": [
       "                   bf        gf\n",
       "n_gf_1.mp4   0.006023  0.993977\n",
       "n_gf_10.mp4  0.011623  0.988377\n",
       "n_gf_2.mp4   0.010029  0.989971\n",
       "n_gf_3.mp4   0.009338  0.990662\n",
       "n_gf_4.mp4   0.007552  0.992448\n",
       "n_gf_5.mp4   0.008795  0.991205\n",
       "n_gf_6.mp4   0.012653  0.987347\n",
       "n_gf_7.mp4   0.011352  0.988648\n",
       "n_gf_8.mp4   0.015004  0.984996\n",
       "n_gf_9.mp4   0.010362  0.989638"
      ]
     },
     "execution_count": 16,
     "metadata": {},
     "output_type": "execute_result"
    }
   ],
   "source": [
    "df = pd.DataFrame(data=y_pred, index=files, columns = ['bf', 'gf'])\n",
    "df"
   ]
  },
  {
   "cell_type": "code",
   "execution_count": 13,
   "metadata": {},
   "outputs": [],
   "source": [
    "def plot_confusion_matrix(cm, classes,\n",
    "                          normalize=False,\n",
    "                          title='Confusion matrix',\n",
    "                          cmap=plt.cm.Blues):\n",
    "    \"\"\"\n",
    "    This function prints and plots the confusion matrix.\n",
    "    Normalization can be applied by setting `normalize=True`.\n",
    "    \"\"\"\n",
    "    if normalize:\n",
    "        cm = cm.astype('float') / cm.sum(axis=1)[:, np.newaxis]\n",
    "        print(\"Normalized confusion matrix\")\n",
    "    else:\n",
    "        print('Confusion matrix, without normalization')\n",
    "\n",
    "    print(cm)\n",
    "\n",
    "    plt.imshow(cm, interpolation='nearest', cmap=cmap)\n",
    "    plt.title(title)\n",
    "    plt.colorbar()\n",
    "    tick_marks = np.arange(len(classes))\n",
    "    plt.xticks(tick_marks, classes, rotation=45)\n",
    "    plt.yticks(tick_marks, classes)\n",
    "\n",
    "    fmt = '.2f' if normalize else 'd'\n",
    "    thresh = cm.max() / 2.\n",
    "    for i, j in itertools.product(range(cm.shape[0]), range(cm.shape[1])):\n",
    "        plt.text(j, i, format(cm[i, j], fmt),\n",
    "                 horizontalalignment=\"center\",\n",
    "                 color=\"white\" if cm[i, j] > thresh else \"black\")\n",
    "\n",
    "    plt.ylabel('True label')\n",
    "    plt.xlabel('Predicted label')\n",
    "    plt.tight_layout()"
   ]
  },
  {
   "cell_type": "code",
   "execution_count": 14,
   "metadata": {},
   "outputs": [
    {
     "data": {
      "text/html": [
       "<div>\n",
       "<style scoped>\n",
       "    .dataframe tbody tr th:only-of-type {\n",
       "        vertical-align: middle;\n",
       "    }\n",
       "\n",
       "    .dataframe tbody tr th {\n",
       "        vertical-align: top;\n",
       "    }\n",
       "\n",
       "    .dataframe thead th {\n",
       "        text-align: right;\n",
       "    }\n",
       "</style>\n",
       "<table border=\"1\" class=\"dataframe\">\n",
       "  <thead>\n",
       "    <tr style=\"text-align: right;\">\n",
       "      <th></th>\n",
       "      <th>bf</th>\n",
       "      <th>gf</th>\n",
       "      <th>id</th>\n",
       "    </tr>\n",
       "  </thead>\n",
       "  <tbody>\n",
       "    <tr>\n",
       "      <th>n_gf_1.mp4</th>\n",
       "      <td>0.0</td>\n",
       "      <td>1.0</td>\n",
       "      <td>gf</td>\n",
       "    </tr>\n",
       "    <tr>\n",
       "      <th>n_gf_10.mp4</th>\n",
       "      <td>0.0</td>\n",
       "      <td>1.0</td>\n",
       "      <td>gf</td>\n",
       "    </tr>\n",
       "    <tr>\n",
       "      <th>n_gf_2.mp4</th>\n",
       "      <td>0.0</td>\n",
       "      <td>1.0</td>\n",
       "      <td>gf</td>\n",
       "    </tr>\n",
       "    <tr>\n",
       "      <th>n_gf_3.mp4</th>\n",
       "      <td>0.0</td>\n",
       "      <td>1.0</td>\n",
       "      <td>gf</td>\n",
       "    </tr>\n",
       "    <tr>\n",
       "      <th>n_gf_4.mp4</th>\n",
       "      <td>0.0</td>\n",
       "      <td>1.0</td>\n",
       "      <td>gf</td>\n",
       "    </tr>\n",
       "    <tr>\n",
       "      <th>n_gf_5.mp4</th>\n",
       "      <td>0.0</td>\n",
       "      <td>1.0</td>\n",
       "      <td>gf</td>\n",
       "    </tr>\n",
       "    <tr>\n",
       "      <th>n_gf_6.mp4</th>\n",
       "      <td>0.0</td>\n",
       "      <td>1.0</td>\n",
       "      <td>gf</td>\n",
       "    </tr>\n",
       "    <tr>\n",
       "      <th>n_gf_7.mp4</th>\n",
       "      <td>0.0</td>\n",
       "      <td>1.0</td>\n",
       "      <td>gf</td>\n",
       "    </tr>\n",
       "    <tr>\n",
       "      <th>n_gf_8.mp4</th>\n",
       "      <td>0.0</td>\n",
       "      <td>1.0</td>\n",
       "      <td>gf</td>\n",
       "    </tr>\n",
       "    <tr>\n",
       "      <th>n_gf_9.mp4</th>\n",
       "      <td>0.0</td>\n",
       "      <td>1.0</td>\n",
       "      <td>gf</td>\n",
       "    </tr>\n",
       "  </tbody>\n",
       "</table>\n",
       "</div>"
      ],
      "text/plain": [
       "              bf   gf  id\n",
       "n_gf_1.mp4   0.0  1.0  gf\n",
       "n_gf_10.mp4  0.0  1.0  gf\n",
       "n_gf_2.mp4   0.0  1.0  gf\n",
       "n_gf_3.mp4   0.0  1.0  gf\n",
       "n_gf_4.mp4   0.0  1.0  gf\n",
       "n_gf_5.mp4   0.0  1.0  gf\n",
       "n_gf_6.mp4   0.0  1.0  gf\n",
       "n_gf_7.mp4   0.0  1.0  gf\n",
       "n_gf_8.mp4   0.0  1.0  gf\n",
       "n_gf_9.mp4   0.0  1.0  gf"
      ]
     },
     "execution_count": 14,
     "metadata": {},
     "output_type": "execute_result"
    }
   ],
   "source": [
    "df = np.round(df)\n",
    "df['id'] = (df.iloc[:,:] == 1).idxmax(1)\n",
    "df"
   ]
  },
  {
   "cell_type": "code",
   "execution_count": 15,
   "metadata": {},
   "outputs": [
    {
     "data": {
      "text/html": [
       "<div>\n",
       "<style scoped>\n",
       "    .dataframe tbody tr th:only-of-type {\n",
       "        vertical-align: middle;\n",
       "    }\n",
       "\n",
       "    .dataframe tbody tr th {\n",
       "        vertical-align: top;\n",
       "    }\n",
       "\n",
       "    .dataframe thead th {\n",
       "        text-align: right;\n",
       "    }\n",
       "</style>\n",
       "<table border=\"1\" class=\"dataframe\">\n",
       "  <thead>\n",
       "    <tr style=\"text-align: right;\">\n",
       "      <th></th>\n",
       "      <th>bf</th>\n",
       "      <th>gf</th>\n",
       "      <th>id</th>\n",
       "    </tr>\n",
       "  </thead>\n",
       "  <tbody>\n",
       "    <tr>\n",
       "      <th>0</th>\n",
       "      <td>1.0</td>\n",
       "      <td>0.0</td>\n",
       "      <td>bf</td>\n",
       "    </tr>\n",
       "    <tr>\n",
       "      <th>1</th>\n",
       "      <td>1.0</td>\n",
       "      <td>0.0</td>\n",
       "      <td>bf</td>\n",
       "    </tr>\n",
       "    <tr>\n",
       "      <th>2</th>\n",
       "      <td>1.0</td>\n",
       "      <td>0.0</td>\n",
       "      <td>bf</td>\n",
       "    </tr>\n",
       "    <tr>\n",
       "      <th>3</th>\n",
       "      <td>1.0</td>\n",
       "      <td>0.0</td>\n",
       "      <td>bf</td>\n",
       "    </tr>\n",
       "    <tr>\n",
       "      <th>4</th>\n",
       "      <td>1.0</td>\n",
       "      <td>0.0</td>\n",
       "      <td>bf</td>\n",
       "    </tr>\n",
       "    <tr>\n",
       "      <th>5</th>\n",
       "      <td>1.0</td>\n",
       "      <td>0.0</td>\n",
       "      <td>bf</td>\n",
       "    </tr>\n",
       "    <tr>\n",
       "      <th>6</th>\n",
       "      <td>1.0</td>\n",
       "      <td>0.0</td>\n",
       "      <td>bf</td>\n",
       "    </tr>\n",
       "    <tr>\n",
       "      <th>7</th>\n",
       "      <td>1.0</td>\n",
       "      <td>0.0</td>\n",
       "      <td>bf</td>\n",
       "    </tr>\n",
       "    <tr>\n",
       "      <th>8</th>\n",
       "      <td>1.0</td>\n",
       "      <td>0.0</td>\n",
       "      <td>bf</td>\n",
       "    </tr>\n",
       "    <tr>\n",
       "      <th>9</th>\n",
       "      <td>1.0</td>\n",
       "      <td>0.0</td>\n",
       "      <td>bf</td>\n",
       "    </tr>\n",
       "  </tbody>\n",
       "</table>\n",
       "</div>"
      ],
      "text/plain": [
       "    bf   gf  id\n",
       "0  1.0  0.0  bf\n",
       "1  1.0  0.0  bf\n",
       "2  1.0  0.0  bf\n",
       "3  1.0  0.0  bf\n",
       "4  1.0  0.0  bf\n",
       "5  1.0  0.0  bf\n",
       "6  1.0  0.0  bf\n",
       "7  1.0  0.0  bf\n",
       "8  1.0  0.0  bf\n",
       "9  1.0  0.0  bf"
      ]
     },
     "execution_count": 15,
     "metadata": {},
     "output_type": "execute_result"
    }
   ],
   "source": [
    "df_y = pd.DataFrame(Y, columns=['bf', 'gf'])\n",
    "df_y['id'] = (df_y.iloc[:,:] == 1).idxmax(1)\n",
    "df_y"
   ]
  },
  {
   "cell_type": "code",
   "execution_count": 40,
   "metadata": {},
   "outputs": [
    {
     "name": "stdout",
     "output_type": "stream",
     "text": [
      "Confusion matrix, without normalization\n",
      "[[ 2  8]\n",
      " [ 0 10]]\n",
      "Normalized confusion matrix\n",
      "[[0.2 0.8]\n",
      " [0.  1. ]]\n"
     ]
    },
    {
     "data": {
      "image/png": "[encoded data removed]",
      "text/plain": [
       "<Figure size 432x288 with 2 Axes>"
      ]
     },
     "metadata": {
      "needs_background": "light"
     },
     "output_type": "display_data"
    },
    {
     "data": {
      "image/png": "[encoded data removed]",
      "text/plain": [
       "<Figure size 432x288 with 2 Axes>"
      ]
     },
     "metadata": {
      "needs_background": "light"
     },
     "output_type": "display_data"
    }
   ],
   "source": [
    "# Compute confusion matrix\n",
    "class_names = ['bf', 'gf']\n",
    "cnf_matrix = confusion_matrix(df_y['id'], df['id'])\n",
    "# np.set_printoptions(precision=2)\n",
    "\n",
    "# Plot non-normalized confusion matrix\n",
    "plt.figure()\n",
    "plot_confusion_matrix(cnf_matrix, classes=class_names,\n",
    "                      title='Confusion matrix, without normalization')\n",
    "\n",
    "# Plot normalized confusion matrix\n",
    "plt.figure()\n",
    "plot_confusion_matrix(cnf_matrix, classes=class_names, normalize=True,\n",
    "                      title='Normalized confusion matrix')\n",
    "\n",
    "plt.show()"
   ]
  },
  {
   "cell_type": "code",
   "execution_count": 26,
   "metadata": {},
   "outputs": [
    {
     "data": {
      "text/plain": [
       "array([[1., 0.],\n",
       "       [1., 0.],\n",
       "       [1., 0.],\n",
       "       [1., 0.],\n",
       "       [1., 0.],\n",
       "       [1., 0.],\n",
       "       [1., 0.],\n",
       "       [1., 0.],\n",
       "       [1., 0.],\n",
       "       [1., 0.],\n",
       "       [0., 1.],\n",
       "       [0., 1.],\n",
       "       [0., 1.],\n",
       "       [0., 1.],\n",
       "       [0., 1.],\n",
       "       [0., 1.],\n",
       "       [0., 1.],\n",
       "       [0., 1.],\n",
       "       [0., 1.],\n",
       "       [0., 1.]], dtype=float32)"
      ]
     },
     "execution_count": 26,
     "metadata": {},
     "output_type": "execute_result"
    }
   ],
   "source": [
    "Y"
   ]
  },
  {
   "cell_type": "code",
   "execution_count": null,
   "metadata": {},
   "outputs": [],
   "source": []
  }
 ],
 "metadata": {
  "kernelspec": {
   "display_name": "tensorflow_env",
   "language": "python",
   "name": "tensorflow_env"
  },
  "language_info": {
   "codemirror_mode": {
    "name": "ipython",
    "version": 3
   },
   "file_extension": ".py",
   "mimetype": "text/x-python",
   "name": "python",
   "nbconvert_exporter": "python",
   "pygments_lexer": "ipython3",
   "version": "3.6.6"
  }
 },
 "nbformat": 4,
 "nbformat_minor": 2
}
